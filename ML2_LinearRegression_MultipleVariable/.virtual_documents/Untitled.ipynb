import pandas as pd
from sklearn import linear_model


df=pd.read_csv('Attendance.csv')
df
data=df.copy()
data['Attendance']=data['Attendance'].map({'Yes':1,'No':0})
data


df.GPA.mean()


data=data.fillna(data.GPA.mean())
data


reg=linear_model.LinearRegression()
reg.fit(data[['SAT','GPA']],data['Attendance'])


reg.coef_


reg.intercept_


reg.predict([[2023,3.7]])


reg.predict([[2050,3.7]])


reg.predict([[1999,3.7]])


reg.predict([[1800,3.7]])


reg.predict([[1980,3.85]])


reg.predict([[2020,4.2]])

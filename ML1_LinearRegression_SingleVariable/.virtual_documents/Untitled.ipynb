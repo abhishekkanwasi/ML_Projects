import pandas as pd
import seaborn as sns
from sklearn import linear_model


df=pd.read_csv("Insurance.csv")
df


sns.lmplot(x="Age",y="Insurance",data=df)


reg=linear_model.LinearRegression()
reg.fit(df[["Age"]],df["Insurance"])


reg.predict([[70]])


reg.predict([[12]])

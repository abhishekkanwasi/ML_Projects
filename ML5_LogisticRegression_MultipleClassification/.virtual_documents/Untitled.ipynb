import pandas as pd


dataset=pd.read_csv("iris.csv")
dataset


dataset["Species"].unique()


dataset["Species"].replace({'Iris-setosa':1, 'Iris-versicolor':2, 'Iris-virginica':3},inplace=True)
dataset


from sklearn.model_selection import train_test_split
X_train, X_test, y_train, y_test=train_test_split(dataset[['SepalLengthCm','SepalWidthCm','PetalLengthCm','PetalWidthCm']],dataset['Species'],test_size=0.2)


len(X_train)


len(X_test)


len(y_train)


len(y_test)


from sklearn.linear_model import LogisticRegression
lr=LogisticRegression()
lr.fit(X_train,y_train)


lr.predict(X_test)


y_test

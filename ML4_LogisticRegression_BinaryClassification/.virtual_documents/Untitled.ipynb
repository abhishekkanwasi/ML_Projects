import pandas as pd
import matplotlib.pyplot as plt
from sklean import


data=pd.read_csv('insurance_data.csv')
data.head(10)


plt.scatter(x='age',y='bought_insurance',data=data)


import seaborn as sns
sns.lmplot(x='age',y='bought_insurance',data=data)



from sklearn.model_selection import train_test_split
x_train,x_test,y_train,y_test=train_test_split(data[['age']],data['bought_insurance'],test_size=0.3)
x_test.head(5)


x_train.head(5)


len(x_test)


len(y_test)


len(x_train)


len(y_train)


# from sklearn.linear_model import LogisticRegression 
import sklearn
lr=LogisticRegression()
lr.fit(x_train,y_train)


lr.predict(x_test)

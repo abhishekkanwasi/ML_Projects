#impoting some important libraries
import pandas as py
import matplotlib.pyplot as plt
import seaborn as sns


#imoprting our dataset
dataset=py.read_csv('Position_Salaries.csv')
dataset


x=dataset.iloc[:,1:2].values
x


y=dataset.iloc[:,2].values
y


#visualization of our dataset
plt.scatter(x,y)


#plotting best fit line
sns.lmplot(x='Level',y='Salary',data=dataset)


#prediction using 1 degree polynomial model
from sklearn import linear_model
model1=linear_model.LinearRegression()
model1.fit(x,y)
model1.predict([[7]])
#inaccurate prediction


#prediction using 2 degree polynomial model
from sklearn.preprocessing import PolynomialFeatures
poly=PolynomialFeatures(degree=2)
poly_x=poly.fit_transform(x)
model2=linear_model.LinearRegression()
model2.fit(poly_x,y)
model2.predict(poly.fit_transform([[7]]))
#more accurate predictions
